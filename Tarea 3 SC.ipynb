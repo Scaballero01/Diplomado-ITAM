{
 "cells": [
  {
   "cell_type": "code",
   "execution_count": 1,
   "metadata": {},
   "outputs": [],
   "source": [
    "import matplotlib.pyplot as plt\n",
    "import numpy as np\n",
    "import seaborn as sns\n",
    "from sklearn.datasets import fetch_california_housing\n",
    "from sklearn.linear_model import Ridge, LinearRegression, LogisticRegression\n",
    "from sklearn.model_selection import GridSearchCV, cross_val_score, train_test_split\n",
    "from sklearn.metrics import mean_squared_error\n",
    "from ipywidgets import interact, FloatSlider\n",
    "from numpy.random import seed, randn\n",
    "import pandas as pd\n",
    "from sklearn.preprocessing import OneHotEncoder, PolynomialFeatures, FunctionTransformer, StandardScaler\n",
    "from sklearn.impute import SimpleImputer\n",
    "from sklearn.compose import ColumnTransformer, make_column_selector\n",
    "from sklearn.pipeline import Pipeline\n",
    "from sklearn.linear_model import Lasso\n",
    "from sklearn.linear_model import Ridge\n",
    "from sklearn.model_selection import train_test_split, cross_validate\n",
    "from sklearn.tree import DecisionTreeRegressor, export_graphviz, plot_tree\n",
    "from sklearn.ensemble import VotingRegressor, BaggingRegressor, RandomForestRegressor"
   ]
  },
  {
   "cell_type": "code",
   "execution_count": 2,
   "metadata": {},
   "outputs": [],
   "source": [
    "\n",
    "%config InlineBackend.figure_format = \"retina\"\n",
    "plt.rcParams[\"figure.figsize\"] = (10, 5)\n",
    "plt.rcParams[\"font.size\"] = 13"
   ]
  },
  {
   "cell_type": "code",
   "execution_count": 4,
   "metadata": {},
   "outputs": [],
   "source": [
    "housing = pd.read_csv(\"train.csv\")"
   ]
  },
  {
   "cell_type": "code",
   "execution_count": 5,
   "metadata": {},
   "outputs": [],
   "source": [
    "\n",
    "train, test = train_test_split(housing, test_size=0.2, random_state=2718)\n",
    "xtrain, ytrain = train.drop(\"SalePrice\", axis=1), train[\"SalePrice\"]"
   ]
  },
  {
   "cell_type": "code",
   "execution_count": 6,
   "metadata": {},
   "outputs": [
    {
     "name": "stdout",
     "output_type": "stream",
     "text": [
      "mean r2: 0.49\n",
      "mean mae: 39,958.02\n"
     ]
    }
   ],
   "source": [
    "column_selector = ColumnTransformer(\n",
    "    [(\"label_bin\", OneHotEncoder(sparse=False), [\"MSZoning\", \"SaleCondition\"]),\n",
    "     (\"numeric\", SimpleImputer(), make_column_selector(dtype_include=\"float\")),\n",
    "     ('log', FunctionTransformer(np.log1p, validate=False), [\"LotArea\"])]\n",
    ")\n",
    "\n",
    "pipe = Pipeline([\n",
    "    (\"select_cols\", column_selector),\n",
    "    (\"lasso\", Lasso(alpha=0.1, tol = 0.5))\n",
    "])\n",
    "\n",
    "cv = cross_validate(pipe, xtrain, ytrain, cv=5, scoring=[\"r2\", \"neg_mean_absolute_error\"])\n",
    "r2 = cv[\"test_r2\"]\n",
    "mae = -cv[\"test_neg_mean_absolute_error\"]\n",
    "\n",
    "print(f\"mean r2: {r2.mean():0.2f}\")\n",
    "print(f\"mean mae: {mae.mean():,.2f}\")"
   ]
  },
  {
   "cell_type": "code",
   "execution_count": 7,
   "metadata": {},
   "outputs": [
    {
     "name": "stdout",
     "output_type": "stream",
     "text": [
      "mean r2: 0.49\n",
      "mean mae: 39,982.16\n"
     ]
    }
   ],
   "source": [
    "\n",
    "# Intento 2: Ajustar un Ridge\n",
    "\n",
    "column_selector = ColumnTransformer(\n",
    "    [(\"label_bin\", OneHotEncoder(sparse=False), [\"MSZoning\", \"SaleCondition\"]),\n",
    "     (\"numeric\", SimpleImputer(), make_column_selector(dtype_include=\"float\")),\n",
    "     ('log', FunctionTransformer(np.log1p, validate=False), [\"LotArea\"]),\n",
    "     ('scale', StandardScaler(), [\"LotArea\"])]\n",
    ")\n",
    "\n",
    "pipe = Pipeline([\n",
    "    (\"select_cols\", column_selector),\n",
    "    (\"ridge\", Ridge(alpha=0.1))\n",
    "])\n",
    "\n",
    "cv = cross_validate(pipe, xtrain, ytrain, cv=5, scoring=[\"r2\", \"neg_mean_absolute_error\"])\n",
    "r2 = cv[\"test_r2\"]\n",
    "mae = -cv[\"test_neg_mean_absolute_error\"]\n",
    "\n",
    "print(f\"mean r2: {r2.mean():0.2f}\")\n",
    "print(f\"mean mae: {mae.mean():,.2f}\")"
   ]
  },
  {
   "cell_type": "code",
   "execution_count": 9,
   "metadata": {},
   "outputs": [
    {
     "name": "stdout",
     "output_type": "stream",
     "text": [
      "mean r2: 0.48\n",
      "mean mae: 37,971.79\n"
     ]
    }
   ],
   "source": [
    "# Intento 3_ ajustar un árbol de decisión\n",
    "\n",
    "column_selector = ColumnTransformer(\n",
    "    [(\"label_bin\", OneHotEncoder(sparse=False), [\"MSZoning\", \"SaleCondition\"]),\n",
    "     (\"numeric\", SimpleImputer(), make_column_selector(dtype_include=\"float\")),\n",
    "     ('log', FunctionTransformer(np.log1p, validate=False), [\"LotArea\"]),\n",
    "     ('scale', StandardScaler(), [\"LotArea\"])]\n",
    ")\n",
    "\n",
    "pipe = Pipeline([\n",
    "    (\"select_cols\", column_selector),\n",
    "    (\"tree\", DecisionTreeRegressor(max_depth=5, random_state=314))\n",
    "])\n",
    "\n",
    "cv = cross_validate(pipe, xtrain, ytrain, cv=5, scoring=[\"r2\", \"neg_mean_absolute_error\"])\n",
    "r2 = cv[\"test_r2\"]\n",
    "mae = -cv[\"test_neg_mean_absolute_error\"]\n",
    "\n",
    "print(f\"mean r2: {r2.mean():0.2f}\")\n",
    "print(f\"mean mae: {mae.mean():,.2f}\")"
   ]
  },
  {
   "cell_type": "code",
   "execution_count": 8,
   "metadata": {},
   "outputs": [
    {
     "name": "stdout",
     "output_type": "stream",
     "text": [
      "mean r2: 0.54\n",
      "mean mae: 36,992.30\n"
     ]
    }
   ],
   "source": [
    "\n",
    "# Intento 4_ ajustar un ensemble voting\n",
    "\n",
    "column_selector = ColumnTransformer(\n",
    "    [(\"label_bin\", OneHotEncoder(sparse=False), [\"MSZoning\", \"SaleCondition\"]),\n",
    "     (\"numeric\", SimpleImputer(), make_column_selector(dtype_include=\"float\")),\n",
    "     ('log', FunctionTransformer(np.log1p, validate=False), [\"LotArea\"]),\n",
    "     ('scale', StandardScaler(), [\"LotArea\"])]\n",
    ")\n",
    "\n",
    "tree = DecisionTreeRegressor(max_depth=3)\n",
    "las = Lasso(alpha=0.1, tol = 0.5)\n",
    "rid = Ridge(alpha=0.1)\n",
    "\n",
    "pipe = Pipeline([\n",
    "    (\"select_cols\", column_selector),\n",
    "    (\"vote\", VotingRegressor([(\"tree\", tree), (\"ridge\", rid), (\"lasso\", las)]))\n",
    "])\n",
    "\n",
    "cv = cross_validate(pipe, xtrain, ytrain, cv=5, scoring=[\"r2\", \"neg_mean_absolute_error\"])\n",
    "r2 = cv[\"test_r2\"]\n",
    "mae = -cv[\"test_neg_mean_absolute_error\"]\n",
    "\n",
    "print(f\"mean r2: {r2.mean():0.2f}\")\n",
    "print(f\"mean mae: {mae.mean():,.2f}\")"
   ]
  },
  {
   "cell_type": "code",
   "execution_count": null,
   "metadata": {},
   "outputs": [],
   "source": [
    "#El mejor resultado fue un ensemble voting\""
   ]
  }
 ],
 "metadata": {
  "kernelspec": {
   "display_name": "Python 3",
   "language": "python",
   "name": "python3"
  },
  "language_info": {
   "codemirror_mode": {
    "name": "ipython",
    "version": 3
   },
   "file_extension": ".py",
   "mimetype": "text/x-python",
   "name": "python",
   "nbconvert_exporter": "python",
   "pygments_lexer": "ipython3",
   "version": "3.7.3"
  }
 },
 "nbformat": 4,
 "nbformat_minor": 4
}
